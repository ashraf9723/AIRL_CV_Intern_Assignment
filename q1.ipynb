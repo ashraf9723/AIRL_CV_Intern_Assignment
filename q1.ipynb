{
  "nbformat": 4,
  "nbformat_minor": 0,
  "metadata": {
    "colab": {
      "provenance": [],
      "gpuType": "T4"
    },
    "kernelspec": {
      "name": "python3",
      "display_name": "Python 3"
    },
    "language_info": {
      "name": "python"
    },
    "accelerator": "GPU"
  },
  "cells": [
    {
      "cell_type": "code",
      "execution_count": 2,
      "metadata": {
        "id": "3jk05nqJ1cC1"
      },
      "outputs": [],
      "source": [
        "import torch\n",
        "import torch.nn as nn\n",
        "import torch.optim as optim\n",
        "import torchvision\n",
        "import torchvision.transforms as transforms\n",
        "from torch.utils.data import DataLoader\n",
        "from tqdm import tqdm"
      ]
    },
    {
      "cell_type": "code",
      "source": [
        "# Helper Module: Stochastic Depth (DropPath)\n",
        "# Randomly drops a residual connection during training.\n",
        "# This is a form of regularization that improves performance for deep networks.\n",
        "def drop_path(x, drop_prob: float = 0., training: bool = False):\n",
        "    \"\"\"Drop paths (Stochastic Depth) per sample (when applied in main path of residual blocks).\"\"\"\n",
        "    if drop_prob == 0. or not training:\n",
        "        return x\n",
        "    keep_prob = 1 - drop_prob\n",
        "    shape = (x.shape[0],) + (1,) * (x.ndim - 1)  # work with diff dim tensors, not just 2D ConvNets\n",
        "    random_tensor = keep_prob + torch.rand(shape, dtype=x.dtype, device=x.device)\n",
        "    random_tensor.floor_()  # binarize\n",
        "    output = x.div(keep_prob) * random_tensor\n",
        "    return output"
      ],
      "metadata": {
        "id": "mfuPxmWs1d5q"
      },
      "execution_count": 3,
      "outputs": []
    },
    {
      "cell_type": "code",
      "source": [
        "class DropPath(nn.Module):\n",
        "    \"\"\"Drop paths (Stochastic Depth) per sample  (when applied in main path of residual blocks).\"\"\"\n",
        "    def __init__(self, drop_prob=None):\n",
        "        super(DropPath, self).__init__()\n",
        "        self.drop_prob = drop_prob\n",
        "\n",
        "    def forward(self, x):\n",
        "        return drop_path(x, self.drop_prob, self.training)\n",
        "\n",
        "# Core ViT Components\n",
        "class PatchEmbedding(nn.Module):\n",
        "    \"\"\"\n",
        "    Splits the image into patches and embeds them.\n",
        "    Parameters:\n",
        "        img_size (int): Size of the input image (e.g., 32 for CIFAR-10).\n",
        "        patch_size (int): Size of each patch (e.g., 4 for CIFAR-10).\n",
        "        in_channels (int): Number of input channels (e.g., 3 for RGB).\n",
        "        embed_dim (int): The embedding dimension.\n",
        "    \"\"\"\n",
        "    def __init__(self, img_size=32, patch_size=4, in_channels=3, embed_dim=512):\n",
        "        super().__init__()\n",
        "        self.img_size = img_size\n",
        "        self.patch_size = patch_size\n",
        "        self.n_patches = (img_size // patch_size) ** 2\n",
        "\n",
        "        # A convolution layer to convert image to patches and embed them\n",
        "        self.proj = nn.Conv2d(\n",
        "            in_channels,\n",
        "            embed_dim,\n",
        "            kernel_size=patch_size,\n",
        "            stride=patch_size,\n",
        "        )\n",
        "\n",
        "    def forward(self, x):\n",
        "        # Input x: (B, C, H, W)\n",
        "        x = self.proj(x)  # (B, E, H/P, W/P)\n",
        "        x = x.flatten(2)  # (B, E, N) where N is number of patches\n",
        "        x = x.transpose(1, 2)  # (B, N, E)\n",
        "        return x\n",
        "\n",
        "class MultiHeadAttention(nn.Module):\n",
        "    \"\"\"Multi-Head Self-Attention block.\"\"\"\n",
        "    def __init__(self, dim, num_heads=8, qkv_bias=False, attn_drop=0., proj_drop=0.):\n",
        "        super().__init__()\n",
        "        self.num_heads = num_heads\n",
        "        head_dim = dim // num_heads\n",
        "        self.scale = head_dim ** -0.5\n",
        "\n",
        "        self.qkv = nn.Linear(dim, dim * 3, bias=qkv_bias)\n",
        "        self.attn_drop = nn.Dropout(attn_drop)\n",
        "        self.proj = nn.Linear(dim, dim)\n",
        "        self.proj_drop = nn.Dropout(proj_drop)\n",
        "\n",
        "    def forward(self, x):\n",
        "        B, N, C = x.shape\n",
        "        qkv = self.qkv(x).reshape(B, N, 3, self.num_heads, C // self.num_heads).permute(2, 0, 3, 1, 4)\n",
        "        q, k, v = qkv[0], qkv[1], qkv[2]\n",
        "\n",
        "        attn = (q @ k.transpose(-2, -1)) * self.scale\n",
        "        attn = attn.softmax(dim=-1)\n",
        "        attn = self.attn_drop(attn)\n",
        "\n",
        "        x = (attn @ v).transpose(1, 2).reshape(B, N, C)\n",
        "        x = self.proj(x)\n",
        "        x = self.proj_drop(x)\n",
        "        return x\n",
        "\n",
        "class MLP(nn.Module):\n",
        "    \"\"\"A simple Feed-Forward Network.\"\"\"\n",
        "    def __init__(self, in_features, hidden_features, out_features, drop=0.):\n",
        "        super().__init__()\n",
        "        self.fc1 = nn.Linear(in_features, hidden_features)\n",
        "        self.act = nn.GELU()\n",
        "        self.fc2 = nn.Linear(hidden_features, out_features)\n",
        "        self.drop = nn.Dropout(drop)\n",
        "\n",
        "    def forward(self, x):\n",
        "        x = self.fc1(x)\n",
        "        x = self.act(x)\n",
        "        x = self.drop(x)\n",
        "        x = self.fc2(x)\n",
        "        x = self.drop(x)\n",
        "        return x\n",
        "\n",
        "class TransformerEncoderBlock(nn.Module):\n",
        "    \"\"\"A single block of the Transformer Encoder.\"\"\"\n",
        "    def __init__(self, dim, num_heads, mlp_ratio=4., qkv_bias=False, drop=0., attn_drop=0., drop_path=0.):\n",
        "        super().__init__()\n",
        "        self.norm1 = nn.LayerNorm(dim)\n",
        "        self.attn = MultiHeadAttention(dim, num_heads=num_heads, qkv_bias=qkv_bias, attn_drop=attn_drop, proj_drop=drop)\n",
        "        self.drop_path = DropPath(drop_path) if drop_path > 0. else nn.Identity()\n",
        "        self.norm2 = nn.LayerNorm(dim)\n",
        "        mlp_hidden_dim = int(dim * mlp_ratio)\n",
        "        self.mlp = MLP(in_features=dim, hidden_features=mlp_hidden_dim, out_features=dim, drop=drop)\n",
        "\n",
        "    def forward(self, x):\n",
        "        x = x + self.drop_path(self.attn(self.norm1(x)))\n",
        "        x = x + self.drop_path(self.mlp(self.norm2(x)))\n",
        "        return x\n",
        "\n",
        "class VisionTransformer(nn.Module):\n",
        "    \"\"\"The main Vision Transformer model.\"\"\"\n",
        "    def __init__(self, img_size=32, patch_size=4, in_chans=3, num_classes=10, embed_dim=512, depth=6,\n",
        "                 num_heads=8, mlp_ratio=4., qkv_bias=True, drop_rate=0.1, attn_drop_rate=0.,\n",
        "                 drop_path_rate=0.1):\n",
        "        super().__init__()\n",
        "        self.num_classes = num_classes\n",
        "        self.num_features = self.embed_dim = embed_dim\n",
        "\n",
        "        self.patch_embed = PatchEmbedding(\n",
        "            img_size=img_size, patch_size=patch_size, in_channels=in_chans, embed_dim=embed_dim)\n",
        "        num_patches = self.patch_embed.n_patches\n",
        "\n",
        "        self.cls_token = nn.Parameter(torch.zeros(1, 1, embed_dim))\n",
        "        self.pos_embed = nn.Parameter(torch.zeros(1, num_patches + 1, embed_dim))\n",
        "        self.pos_drop = nn.Dropout(p=drop_rate)\n",
        "\n",
        "        dpr = [x.item() for x in torch.linspace(0, drop_path_rate, depth)]  # stochastic depth decay rule\n",
        "        self.blocks = nn.Sequential(*[\n",
        "            TransformerEncoderBlock(\n",
        "                dim=embed_dim, num_heads=num_heads, mlp_ratio=mlp_ratio, qkv_bias=qkv_bias,\n",
        "                drop=drop_rate, attn_drop=attn_drop_rate, drop_path=dpr[i])\n",
        "            for i in range(depth)])\n",
        "        self.norm = nn.LayerNorm(embed_dim)\n",
        "\n",
        "        # Classifier head\n",
        "        self.head = nn.Linear(embed_dim, num_classes)\n",
        "\n",
        "        # Initialize weights\n",
        "        nn.init.trunc_normal_(self.pos_embed, std=.02)\n",
        "        nn.init.trunc_normal_(self.cls_token, std=.02)\n",
        "        self.apply(self._init_weights)\n",
        "\n",
        "    def _init_weights(self, m):\n",
        "        if isinstance(m, nn.Linear):\n",
        "            nn.init.trunc_normal_(m.weight, std=.02)\n",
        "            if isinstance(m, nn.Linear) and m.bias is not None:\n",
        "                nn.init.constant_(m.bias, 0)\n",
        "        elif isinstance(m, nn.LayerNorm):\n",
        "            nn.init.constant_(m.bias, 0)\n",
        "            nn.init.constant_(m.weight, 1.0)\n",
        "\n",
        "    def forward(self, x):\n",
        "        B = x.shape[0]\n",
        "        x = self.patch_embed(x)\n",
        "\n",
        "        cls_tokens = self.cls_token.expand(B, -1, -1)\n",
        "        x = torch.cat((cls_tokens, x), dim=1)\n",
        "        x = x + self.pos_embed\n",
        "        x = self.pos_drop(x)\n",
        "\n",
        "        x = self.blocks(x)\n",
        "        x = self.norm(x)\n",
        "\n",
        "        # Use the CLS token for classification\n",
        "        return self.head(x[:, 0])"
      ],
      "metadata": {
        "id": "gjfx6VP41sDs"
      },
      "execution_count": 4,
      "outputs": []
    },
    {
      "cell_type": "code",
      "source": [
        "# --- Data Loading and Training Setup ---\n",
        "\n",
        "def get_loaders(batch_size=256):\n",
        "    \"\"\"Prepare CIFAR-10 DataLoaders.\"\"\"\n",
        "    # Data augmentation and normalization for training\n",
        "    # Just normalization for validation\n",
        "    transform_train = transforms.Compose([\n",
        "        transforms.RandomCrop(32, padding=4),\n",
        "        transforms.RandomHorizontalFlip(),\n",
        "        transforms.AutoAugment(policy=transforms.AutoAugmentPolicy.CIFAR10),\n",
        "        transforms.ToTensor(),\n",
        "        transforms.Normalize((0.4914, 0.4822, 0.4465), (0.2023, 0.1994, 0.2010)),\n",
        "    ])\n",
        "\n",
        "    transform_test = transforms.Compose([\n",
        "        transforms.ToTensor(),\n",
        "        transforms.Normalize((0.4914, 0.4822, 0.4465), (0.2023, 0.1994, 0.2010)),\n",
        "    ])\n",
        "\n",
        "    trainset = torchvision.datasets.CIFAR10(\n",
        "        root='./data', train=True, download=True, transform=transform_train)\n",
        "    trainloader = DataLoader(\n",
        "        trainset, batch_size=batch_size, shuffle=True, num_workers=2, pin_memory=True)\n",
        "\n",
        "    testset = torchvision.datasets.CIFAR10(\n",
        "        root='./data', train=False, download=True, transform=transform_test)\n",
        "    testloader = DataLoader(\n",
        "        testset, batch_size=batch_size, shuffle=False, num_workers=2, pin_memory=True)\n",
        "\n",
        "    return trainloader, testloader\n",
        "\n",
        "def train_one_epoch(model, dataloader, criterion, optimizer, scheduler, device, epoch):\n",
        "    \"\"\"Train the model for one epoch.\"\"\"\n",
        "    model.train()\n",
        "    total_loss = 0.0\n",
        "    correct = 0\n",
        "    total = 0\n",
        "\n",
        "    progress_bar = tqdm(dataloader, desc=f\"Epoch {epoch+1}\")\n",
        "    for i, (inputs, targets) in enumerate(progress_bar):\n",
        "        inputs, targets = inputs.to(device), targets.to(device)\n",
        "\n",
        "        # Linear warm-up\n",
        "        if epoch < 5: # Warm-up for first 5 epochs\n",
        "            lr_scale = (i + 1 + len(dataloader) * epoch) / (len(dataloader) * 5)\n",
        "            for pg in optimizer.param_groups:\n",
        "                pg['lr'] = CFG.lr * lr_scale\n",
        "\n",
        "        optimizer.zero_grad()\n",
        "        outputs = model(inputs)\n",
        "        loss = criterion(outputs, targets)\n",
        "        loss.backward()\n",
        "        optimizer.step()\n",
        "\n",
        "        total_loss += loss.item()\n",
        "        _, predicted = outputs.max(1)\n",
        "        total += targets.size(0)\n",
        "        correct += predicted.eq(targets).sum().item()\n",
        "\n",
        "        progress_bar.set_postfix({\n",
        "            'loss': f'{total_loss/(i+1):.4f}',\n",
        "            'acc': f'{100.*correct/total:.2f}%',\n",
        "            'lr': f'{optimizer.param_groups[0][\"lr\"]:.5f}'\n",
        "        })\n",
        "\n",
        "    if epoch >= 5: # Start scheduler after warm-up\n",
        "        scheduler.step()\n",
        "\n",
        "def evaluate(model, dataloader, criterion, device):\n",
        "    \"\"\"Evaluate the model on the test set.\"\"\"\n",
        "    model.eval()\n",
        "    total_loss = 0.0\n",
        "    correct = 0\n",
        "    total = 0\n",
        "    with torch.no_grad():\n",
        "        for inputs, targets in dataloader:\n",
        "            inputs, targets = inputs.to(device), targets.to(device)\n",
        "            outputs = model(inputs)\n",
        "            loss = criterion(outputs, targets)\n",
        "\n",
        "            total_loss += loss.item()\n",
        "            _, predicted = outputs.max(1)\n",
        "            total += targets.size(0)\n",
        "            correct += predicted.eq(targets).sum().item()\n",
        "\n",
        "    accuracy = 100. * correct / total\n",
        "    avg_loss = total_loss / len(dataloader)\n",
        "    print(f'Test Results: Accuracy: {accuracy:.2f}% | Avg Loss: {avg_loss:.4f}')\n",
        "    return accuracy"
      ],
      "metadata": {
        "id": "RqVvv8BY1xFv"
      },
      "execution_count": 5,
      "outputs": []
    },
    {
      "cell_type": "code",
      "source": [
        "# --- Main Execution Block ---\n",
        "\n",
        "if __name__ == '__main__':\n",
        "    # Configuration\n",
        "    class CFG:\n",
        "        img_size = 32\n",
        "        patch_size = 4\n",
        "        in_chans = 3\n",
        "        num_classes = 10\n",
        "        embed_dim = 512\n",
        "        depth = 6\n",
        "        num_heads = 8\n",
        "        mlp_ratio = 2.0 # Reduced mlp_ratio for smaller model\n",
        "        qkv_bias = True\n",
        "        drop_rate = 0.1\n",
        "        attn_drop_rate = 0.1\n",
        "        drop_path_rate = 0.1\n",
        "\n",
        "        batch_size = 256\n",
        "        epochs = 100\n",
        "        lr = 1e-3\n",
        "        weight_decay = 0.05\n",
        "\n",
        "    # Setup\n",
        "    device = 'cuda' if torch.cuda.is_available() else 'cpu'\n",
        "    print(f\"Using device: {device}\")\n",
        "\n",
        "    # Data\n",
        "    trainloader, testloader = get_loaders(CFG.batch_size)\n",
        "\n",
        "    # Model\n",
        "    model = VisionTransformer(\n",
        "        img_size=CFG.img_size,\n",
        "        patch_size=CFG.patch_size,\n",
        "        in_chans=CFG.in_chans,\n",
        "        num_classes=CFG.num_classes,\n",
        "        embed_dim=CFG.embed_dim,\n",
        "        depth=CFG.depth,\n",
        "        num_heads=CFG.num_heads,\n",
        "        mlp_ratio=CFG.mlp_ratio,\n",
        "        qkv_bias=CFG.qkv_bias,\n",
        "        drop_rate=CFG.drop_rate,\n",
        "        attn_drop_rate=CFG.attn_drop_rate,\n",
        "        drop_path_rate=CFG.drop_path_rate\n",
        "    ).to(device)\n",
        "\n",
        "    print(f\"Model has {sum(p.numel() for p in model.parameters() if p.requires_grad):,} trainable parameters.\")\n",
        "\n",
        "    # Loss, Optimizer, Scheduler\n",
        "    criterion = nn.CrossEntropyLoss()\n",
        "    optimizer = optim.AdamW(model.parameters(), lr=CFG.lr, weight_decay=CFG.weight_decay)\n",
        "    # Cosine Annealing scheduler, starts after the warm-up period\n",
        "    scheduler = optim.lr_scheduler.CosineAnnealingLR(optimizer, T_max=CFG.epochs - 5)\n",
        "\n",
        "    # Training Loop\n",
        "    best_acc = 0.0\n",
        "    for epoch in range(CFG.epochs):\n",
        "        train_one_epoch(model, trainloader, criterion, optimizer, scheduler, device, epoch)\n",
        "        current_acc = evaluate(model, testloader, criterion, device)\n",
        "        if current_acc > best_acc:\n",
        "            best_acc = current_acc\n",
        "            print(f\"🎉 New best accuracy: {best_acc:.2f}%\")\n",
        "            # You can save your best model here if you want\n",
        "            # torch.save(model.state_dict(), 'best_vit_cifar10.pth')\n",
        "\n",
        "    print(f\"\\n--- Training Finished ---\")\n",
        "    print(f\"🏆 Best Test Accuracy: {best_acc:.2f}%\")"
      ],
      "metadata": {
        "colab": {
          "base_uri": "https://localhost:8080/"
        },
        "id": "x78LOqjs2A98",
        "outputId": "8ee36cf8-e364-4ae2-a733-d5c9c0c5e35e"
      },
      "execution_count": 6,
      "outputs": [
        {
          "metadata": {
            "tags": null
          },
          "name": "stdout",
          "output_type": "stream",
          "text": [
            "Using device: cuda\n"
          ]
        },
        {
          "metadata": {
            "tags": null
          },
          "name": "stderr",
          "output_type": "stream",
          "text": [
            "100%|██████████| 170M/170M [00:03<00:00, 43.1MB/s]\n"
          ]
        },
        {
          "metadata": {
            "tags": null
          },
          "name": "stdout",
          "output_type": "stream",
          "text": [
            "Model has 12,681,738 trainable parameters.\n"
          ]
        },
        {
          "metadata": {
            "tags": null
          },
          "name": "stderr",
          "output_type": "stream",
          "text": [
            "Epoch 1: 100%|██████████| 196/196 [01:31<00:00,  2.15it/s, loss=2.0955, acc=21.95%, lr=0.00020]\n"
          ]
        },
        {
          "metadata": {
            "tags": null
          },
          "name": "stdout",
          "output_type": "stream",
          "text": [
            "Test Results: Accuracy: 28.39% | Avg Loss: 1.9285\n",
            "🎉 New best accuracy: 28.39%\n"
          ]
        },
        {
          "metadata": {
            "tags": null
          },
          "name": "stderr",
          "output_type": "stream",
          "text": [
            "Epoch 2: 100%|██████████| 196/196 [01:35<00:00,  2.05it/s, loss=1.8314, acc=32.83%, lr=0.00040]\n"
          ]
        },
        {
          "metadata": {
            "tags": null
          },
          "name": "stdout",
          "output_type": "stream",
          "text": [
            "Test Results: Accuracy: 44.29% | Avg Loss: 1.5437\n",
            "🎉 New best accuracy: 44.29%\n"
          ]
        },
        {
          "metadata": {
            "tags": null
          },
          "name": "stderr",
          "output_type": "stream",
          "text": [
            "Epoch 3: 100%|██████████| 196/196 [01:35<00:00,  2.05it/s, loss=1.6920, acc=38.29%, lr=0.00060]\n"
          ]
        },
        {
          "metadata": {
            "tags": null
          },
          "name": "stdout",
          "output_type": "stream",
          "text": [
            "Test Results: Accuracy: 47.06% | Avg Loss: 1.4749\n",
            "🎉 New best accuracy: 47.06%\n"
          ]
        },
        {
          "metadata": {
            "tags": null
          },
          "name": "stderr",
          "output_type": "stream",
          "text": [
            "Epoch 4: 100%|██████████| 196/196 [01:35<00:00,  2.05it/s, loss=1.6624, acc=39.62%, lr=0.00080]\n"
          ]
        },
        {
          "metadata": {
            "tags": null
          },
          "name": "stdout",
          "output_type": "stream",
          "text": [
            "Test Results: Accuracy: 46.35% | Avg Loss: 1.4542\n"
          ]
        },
        {
          "metadata": {
            "tags": null
          },
          "name": "stderr",
          "output_type": "stream",
          "text": [
            "Epoch 5: 100%|██████████| 196/196 [01:35<00:00,  2.05it/s, loss=1.6891, acc=38.98%, lr=0.00100]\n"
          ]
        },
        {
          "metadata": {
            "tags": null
          },
          "name": "stdout",
          "output_type": "stream",
          "text": [
            "Test Results: Accuracy: 43.66% | Avg Loss: 1.5545\n"
          ]
        },
        {
          "metadata": {
            "tags": null
          },
          "name": "stderr",
          "output_type": "stream",
          "text": [
            "Epoch 6: 100%|██████████| 196/196 [01:35<00:00,  2.05it/s, loss=1.7093, acc=38.09%, lr=0.00100]\n"
          ]
        },
        {
          "metadata": {
            "tags": null
          },
          "name": "stdout",
          "output_type": "stream",
          "text": [
            "Test Results: Accuracy: 45.24% | Avg Loss: 1.5089\n"
          ]
        },
        {
          "metadata": {
            "tags": null
          },
          "name": "stderr",
          "output_type": "stream",
          "text": [
            "Epoch 7: 100%|██████████| 196/196 [01:35<00:00,  2.05it/s, loss=1.7324, acc=36.79%, lr=0.00100]\n"
          ]
        },
        {
          "metadata": {
            "tags": null
          },
          "name": "stdout",
          "output_type": "stream",
          "text": [
            "Test Results: Accuracy: 43.91% | Avg Loss: 1.5356\n"
          ]
        },
        {
          "metadata": {
            "tags": null
          },
          "name": "stderr",
          "output_type": "stream",
          "text": [
            "Epoch 8: 100%|██████████| 196/196 [01:35<00:00,  2.05it/s, loss=1.7231, acc=37.22%, lr=0.00100]\n"
          ]
        },
        {
          "metadata": {
            "tags": null
          },
          "name": "stdout",
          "output_type": "stream",
          "text": [
            "Test Results: Accuracy: 46.29% | Avg Loss: 1.4953\n"
          ]
        },
        {
          "metadata": {
            "tags": null
          },
          "name": "stderr",
          "output_type": "stream",
          "text": [
            "Epoch 9: 100%|██████████| 196/196 [01:35<00:00,  2.05it/s, loss=1.6953, acc=38.45%, lr=0.00100]\n"
          ]
        },
        {
          "metadata": {
            "tags": null
          },
          "name": "stdout",
          "output_type": "stream",
          "text": [
            "Test Results: Accuracy: 45.53% | Avg Loss: 1.4876\n"
          ]
        },
        {
          "metadata": {
            "tags": null
          },
          "name": "stderr",
          "output_type": "stream",
          "text": [
            "Epoch 10: 100%|██████████| 196/196 [01:35<00:00,  2.05it/s, loss=1.6880, acc=38.80%, lr=0.00100]\n"
          ]
        },
        {
          "metadata": {
            "tags": null
          },
          "name": "stdout",
          "output_type": "stream",
          "text": [
            "Test Results: Accuracy: 48.63% | Avg Loss: 1.4220\n",
            "🎉 New best accuracy: 48.63%\n"
          ]
        },
        {
          "metadata": {
            "tags": null
          },
          "name": "stderr",
          "output_type": "stream",
          "text": [
            "Epoch 11: 100%|██████████| 196/196 [01:35<00:00,  2.05it/s, loss=1.6580, acc=39.78%, lr=0.00099]\n"
          ]
        },
        {
          "metadata": {
            "tags": null
          },
          "name": "stdout",
          "output_type": "stream",
          "text": [
            "Test Results: Accuracy: 48.19% | Avg Loss: 1.4249\n"
          ]
        },
        {
          "metadata": {
            "tags": null
          },
          "name": "stderr",
          "output_type": "stream",
          "text": [
            "Epoch 12: 100%|██████████| 196/196 [01:35<00:00,  2.05it/s, loss=1.6264, acc=41.24%, lr=0.00099]\n"
          ]
        },
        {
          "metadata": {
            "tags": null
          },
          "name": "stdout",
          "output_type": "stream",
          "text": [
            "Test Results: Accuracy: 51.86% | Avg Loss: 1.3321\n",
            "🎉 New best accuracy: 51.86%\n"
          ]
        },
        {
          "metadata": {
            "tags": null
          },
          "name": "stderr",
          "output_type": "stream",
          "text": [
            "Epoch 13: 100%|██████████| 196/196 [01:35<00:00,  2.05it/s, loss=1.5881, acc=42.18%, lr=0.00099]\n"
          ]
        },
        {
          "metadata": {
            "tags": null
          },
          "name": "stdout",
          "output_type": "stream",
          "text": [
            "Test Results: Accuracy: 53.80% | Avg Loss: 1.2568\n",
            "🎉 New best accuracy: 53.80%\n"
          ]
        },
        {
          "metadata": {
            "tags": null
          },
          "name": "stderr",
          "output_type": "stream",
          "text": [
            "Epoch 14: 100%|██████████| 196/196 [01:35<00:00,  2.05it/s, loss=1.5553, acc=43.82%, lr=0.00098]\n"
          ]
        },
        {
          "metadata": {
            "tags": null
          },
          "name": "stdout",
          "output_type": "stream",
          "text": [
            "Test Results: Accuracy: 53.52% | Avg Loss: 1.2781\n"
          ]
        },
        {
          "metadata": {
            "tags": null
          },
          "name": "stderr",
          "output_type": "stream",
          "text": [
            "Epoch 15: 100%|██████████| 196/196 [01:35<00:00,  2.05it/s, loss=1.5246, acc=44.63%, lr=0.00098]\n"
          ]
        },
        {
          "metadata": {
            "tags": null
          },
          "name": "stdout",
          "output_type": "stream",
          "text": [
            "Test Results: Accuracy: 54.47% | Avg Loss: 1.2414\n",
            "🎉 New best accuracy: 54.47%\n"
          ]
        },
        {
          "metadata": {
            "tags": null
          },
          "name": "stderr",
          "output_type": "stream",
          "text": [
            "Epoch 16: 100%|██████████| 196/196 [01:35<00:00,  2.06it/s, loss=1.5093, acc=45.15%, lr=0.00097]\n"
          ]
        },
        {
          "metadata": {
            "tags": null
          },
          "name": "stdout",
          "output_type": "stream",
          "text": [
            "Test Results: Accuracy: 54.87% | Avg Loss: 1.2563\n",
            "🎉 New best accuracy: 54.87%\n"
          ]
        },
        {
          "metadata": {
            "tags": null
          },
          "name": "stderr",
          "output_type": "stream",
          "text": [
            "Epoch 17: 100%|██████████| 196/196 [01:35<00:00,  2.05it/s, loss=1.4705, acc=46.58%, lr=0.00097]\n"
          ]
        },
        {
          "metadata": {
            "tags": null
          },
          "name": "stdout",
          "output_type": "stream",
          "text": [
            "Test Results: Accuracy: 56.05% | Avg Loss: 1.1956\n",
            "🎉 New best accuracy: 56.05%\n"
          ]
        },
        {
          "metadata": {
            "tags": null
          },
          "name": "stderr",
          "output_type": "stream",
          "text": [
            "Epoch 18: 100%|██████████| 196/196 [01:35<00:00,  2.05it/s, loss=1.4540, acc=47.60%, lr=0.00096]\n"
          ]
        },
        {
          "metadata": {
            "tags": null
          },
          "name": "stdout",
          "output_type": "stream",
          "text": [
            "Test Results: Accuracy: 58.44% | Avg Loss: 1.1436\n",
            "🎉 New best accuracy: 58.44%\n"
          ]
        },
        {
          "metadata": {
            "tags": null
          },
          "name": "stderr",
          "output_type": "stream",
          "text": [
            "Epoch 19: 100%|██████████| 196/196 [01:35<00:00,  2.05it/s, loss=1.4312, acc=48.34%, lr=0.00095]\n"
          ]
        },
        {
          "metadata": {
            "tags": null
          },
          "name": "stdout",
          "output_type": "stream",
          "text": [
            "Test Results: Accuracy: 58.78% | Avg Loss: 1.1459\n",
            "🎉 New best accuracy: 58.78%\n"
          ]
        },
        {
          "metadata": {
            "tags": null
          },
          "name": "stderr",
          "output_type": "stream",
          "text": [
            "Epoch 20: 100%|██████████| 196/196 [01:35<00:00,  2.05it/s, loss=1.4122, acc=49.16%, lr=0.00095]\n"
          ]
        },
        {
          "metadata": {
            "tags": null
          },
          "name": "stdout",
          "output_type": "stream",
          "text": [
            "Test Results: Accuracy: 58.76% | Avg Loss: 1.1316\n"
          ]
        },
        {
          "metadata": {
            "tags": null
          },
          "name": "stderr",
          "output_type": "stream",
          "text": [
            "Epoch 21: 100%|██████████| 196/196 [01:35<00:00,  2.05it/s, loss=1.3906, acc=49.92%, lr=0.00094]\n"
          ]
        },
        {
          "metadata": {
            "tags": null
          },
          "name": "stdout",
          "output_type": "stream",
          "text": [
            "Test Results: Accuracy: 59.26% | Avg Loss: 1.1063\n",
            "🎉 New best accuracy: 59.26%\n"
          ]
        },
        {
          "metadata": {
            "tags": null
          },
          "name": "stderr",
          "output_type": "stream",
          "text": [
            "Epoch 22: 100%|██████████| 196/196 [01:35<00:00,  2.05it/s, loss=1.3688, acc=50.80%, lr=0.00093]\n"
          ]
        },
        {
          "metadata": {
            "tags": null
          },
          "name": "stdout",
          "output_type": "stream",
          "text": [
            "Test Results: Accuracy: 60.15% | Avg Loss: 1.0783\n",
            "🎉 New best accuracy: 60.15%\n"
          ]
        },
        {
          "metadata": {
            "tags": null
          },
          "name": "stderr",
          "output_type": "stream",
          "text": [
            "Epoch 23: 100%|██████████| 196/196 [01:35<00:00,  2.06it/s, loss=1.3554, acc=51.31%, lr=0.00092]\n"
          ]
        },
        {
          "metadata": {
            "tags": null
          },
          "name": "stdout",
          "output_type": "stream",
          "text": [
            "Test Results: Accuracy: 61.48% | Avg Loss: 1.0729\n",
            "🎉 New best accuracy: 61.48%\n"
          ]
        },
        {
          "metadata": {
            "tags": null
          },
          "name": "stderr",
          "output_type": "stream",
          "text": [
            "Epoch 24: 100%|██████████| 196/196 [01:35<00:00,  2.05it/s, loss=1.3222, acc=52.67%, lr=0.00091]\n"
          ]
        },
        {
          "metadata": {
            "tags": null
          },
          "name": "stdout",
          "output_type": "stream",
          "text": [
            "Test Results: Accuracy: 62.19% | Avg Loss: 1.0290\n",
            "🎉 New best accuracy: 62.19%\n"
          ]
        },
        {
          "metadata": {
            "tags": null
          },
          "name": "stderr",
          "output_type": "stream",
          "text": [
            "Epoch 25: 100%|██████████| 196/196 [01:35<00:00,  2.05it/s, loss=1.3080, acc=52.88%, lr=0.00090]\n"
          ]
        },
        {
          "metadata": {
            "tags": null
          },
          "name": "stdout",
          "output_type": "stream",
          "text": [
            "Test Results: Accuracy: 62.69% | Avg Loss: 1.0149\n",
            "🎉 New best accuracy: 62.69%\n"
          ]
        },
        {
          "metadata": {
            "tags": null
          },
          "name": "stderr",
          "output_type": "stream",
          "text": [
            "Epoch 26: 100%|██████████| 196/196 [01:35<00:00,  2.06it/s, loss=1.2880, acc=53.67%, lr=0.00089]\n"
          ]
        },
        {
          "metadata": {
            "tags": null
          },
          "name": "stdout",
          "output_type": "stream",
          "text": [
            "Test Results: Accuracy: 63.91% | Avg Loss: 0.9908\n",
            "🎉 New best accuracy: 63.91%\n"
          ]
        },
        {
          "metadata": {
            "tags": null
          },
          "name": "stderr",
          "output_type": "stream",
          "text": [
            "Epoch 27: 100%|██████████| 196/196 [01:35<00:00,  2.05it/s, loss=1.2694, acc=54.28%, lr=0.00088]\n"
          ]
        },
        {
          "metadata": {
            "tags": null
          },
          "name": "stdout",
          "output_type": "stream",
          "text": [
            "Test Results: Accuracy: 63.49% | Avg Loss: 1.0211\n"
          ]
        },
        {
          "metadata": {
            "tags": null
          },
          "name": "stderr",
          "output_type": "stream",
          "text": [
            "Epoch 28: 100%|██████████| 196/196 [01:35<00:00,  2.05it/s, loss=1.2451, acc=55.58%, lr=0.00087]\n"
          ]
        },
        {
          "metadata": {
            "tags": null
          },
          "name": "stdout",
          "output_type": "stream",
          "text": [
            "Test Results: Accuracy: 63.73% | Avg Loss: 0.9953\n"
          ]
        },
        {
          "metadata": {
            "tags": null
          },
          "name": "stderr",
          "output_type": "stream",
          "text": [
            "Epoch 29: 100%|██████████| 196/196 [01:35<00:00,  2.05it/s, loss=1.2263, acc=56.08%, lr=0.00086]\n"
          ]
        },
        {
          "metadata": {
            "tags": null
          },
          "name": "stdout",
          "output_type": "stream",
          "text": [
            "Test Results: Accuracy: 65.16% | Avg Loss: 0.9533\n",
            "🎉 New best accuracy: 65.16%\n"
          ]
        },
        {
          "metadata": {
            "tags": null
          },
          "name": "stderr",
          "output_type": "stream",
          "text": [
            "Epoch 30: 100%|██████████| 196/196 [01:35<00:00,  2.05it/s, loss=1.2092, acc=56.48%, lr=0.00085]\n"
          ]
        },
        {
          "metadata": {
            "tags": null
          },
          "name": "stdout",
          "output_type": "stream",
          "text": [
            "Test Results: Accuracy: 66.12% | Avg Loss: 0.9281\n",
            "🎉 New best accuracy: 66.12%\n"
          ]
        },
        {
          "metadata": {
            "tags": null
          },
          "name": "stderr",
          "output_type": "stream",
          "text": [
            "Epoch 31: 100%|██████████| 196/196 [01:35<00:00,  2.05it/s, loss=1.1882, acc=57.49%, lr=0.00084]\n"
          ]
        },
        {
          "metadata": {
            "tags": null
          },
          "name": "stdout",
          "output_type": "stream",
          "text": [
            "Test Results: Accuracy: 66.68% | Avg Loss: 0.9100\n",
            "🎉 New best accuracy: 66.68%\n"
          ]
        },
        {
          "metadata": {
            "tags": null
          },
          "name": "stderr",
          "output_type": "stream",
          "text": [
            "Epoch 32: 100%|██████████| 196/196 [01:35<00:00,  2.05it/s, loss=1.1575, acc=58.68%, lr=0.00083]\n"
          ]
        },
        {
          "metadata": {
            "tags": null
          },
          "name": "stdout",
          "output_type": "stream",
          "text": [
            "Test Results: Accuracy: 68.91% | Avg Loss: 0.8614\n",
            "🎉 New best accuracy: 68.91%\n"
          ]
        },
        {
          "metadata": {
            "tags": null
          },
          "name": "stderr",
          "output_type": "stream",
          "text": [
            "Epoch 33: 100%|██████████| 196/196 [01:35<00:00,  2.05it/s, loss=1.1435, acc=59.11%, lr=0.00081]\n"
          ]
        },
        {
          "metadata": {
            "tags": null
          },
          "name": "stdout",
          "output_type": "stream",
          "text": [
            "Test Results: Accuracy: 70.32% | Avg Loss: 0.8385\n",
            "🎉 New best accuracy: 70.32%\n"
          ]
        },
        {
          "metadata": {
            "tags": null
          },
          "name": "stderr",
          "output_type": "stream",
          "text": [
            "Epoch 34: 100%|██████████| 196/196 [01:35<00:00,  2.05it/s, loss=1.1256, acc=59.56%, lr=0.00080]\n"
          ]
        },
        {
          "metadata": {
            "tags": null
          },
          "name": "stdout",
          "output_type": "stream",
          "text": [
            "Test Results: Accuracy: 69.96% | Avg Loss: 0.8363\n"
          ]
        },
        {
          "metadata": {
            "tags": null
          },
          "name": "stderr",
          "output_type": "stream",
          "text": [
            "Epoch 35: 100%|██████████| 196/196 [01:35<00:00,  2.06it/s, loss=1.1158, acc=60.52%, lr=0.00079]\n"
          ]
        },
        {
          "metadata": {
            "tags": null
          },
          "name": "stdout",
          "output_type": "stream",
          "text": [
            "Test Results: Accuracy: 71.95% | Avg Loss: 0.7819\n",
            "🎉 New best accuracy: 71.95%\n"
          ]
        },
        {
          "metadata": {
            "tags": null
          },
          "name": "stderr",
          "output_type": "stream",
          "text": [
            "Epoch 36: 100%|██████████| 196/196 [01:35<00:00,  2.06it/s, loss=1.0913, acc=61.18%, lr=0.00077]\n"
          ]
        },
        {
          "metadata": {
            "tags": null
          },
          "name": "stdout",
          "output_type": "stream",
          "text": [
            "Test Results: Accuracy: 71.35% | Avg Loss: 0.7918\n"
          ]
        },
        {
          "metadata": {
            "tags": null
          },
          "name": "stderr",
          "output_type": "stream",
          "text": [
            "Epoch 37: 100%|██████████| 196/196 [01:35<00:00,  2.06it/s, loss=1.0684, acc=61.95%, lr=0.00076]\n"
          ]
        },
        {
          "metadata": {
            "tags": null
          },
          "name": "stdout",
          "output_type": "stream",
          "text": [
            "Test Results: Accuracy: 71.28% | Avg Loss: 0.8201\n"
          ]
        },
        {
          "metadata": {
            "tags": null
          },
          "name": "stderr",
          "output_type": "stream",
          "text": [
            "Epoch 38: 100%|██████████| 196/196 [01:35<00:00,  2.05it/s, loss=1.0536, acc=62.46%, lr=0.00075]\n"
          ]
        },
        {
          "metadata": {
            "tags": null
          },
          "name": "stdout",
          "output_type": "stream",
          "text": [
            "Test Results: Accuracy: 72.25% | Avg Loss: 0.7736\n",
            "🎉 New best accuracy: 72.25%\n"
          ]
        },
        {
          "metadata": {
            "tags": null
          },
          "name": "stderr",
          "output_type": "stream",
          "text": [
            "Epoch 39: 100%|██████████| 196/196 [01:35<00:00,  2.05it/s, loss=1.0410, acc=63.07%, lr=0.00073]\n"
          ]
        },
        {
          "metadata": {
            "tags": null
          },
          "name": "stdout",
          "output_type": "stream",
          "text": [
            "Test Results: Accuracy: 72.77% | Avg Loss: 0.7735\n",
            "🎉 New best accuracy: 72.77%\n"
          ]
        },
        {
          "metadata": {
            "tags": null
          },
          "name": "stderr",
          "output_type": "stream",
          "text": [
            "Epoch 40: 100%|██████████| 196/196 [01:35<00:00,  2.05it/s, loss=1.0243, acc=63.65%, lr=0.00072]\n"
          ]
        },
        {
          "metadata": {
            "tags": null
          },
          "name": "stdout",
          "output_type": "stream",
          "text": [
            "Test Results: Accuracy: 73.67% | Avg Loss: 0.7334\n",
            "🎉 New best accuracy: 73.67%\n"
          ]
        },
        {
          "metadata": {
            "tags": null
          },
          "name": "stderr",
          "output_type": "stream",
          "text": [
            "Epoch 41: 100%|██████████| 196/196 [01:35<00:00,  2.06it/s, loss=0.9988, acc=64.80%, lr=0.00070]\n"
          ]
        },
        {
          "metadata": {
            "tags": null
          },
          "name": "stdout",
          "output_type": "stream",
          "text": [
            "Test Results: Accuracy: 74.48% | Avg Loss: 0.7115\n",
            "🎉 New best accuracy: 74.48%\n"
          ]
        },
        {
          "metadata": {
            "tags": null
          },
          "name": "stderr",
          "output_type": "stream",
          "text": [
            "Epoch 42: 100%|██████████| 196/196 [01:35<00:00,  2.05it/s, loss=1.0012, acc=64.63%, lr=0.00069]\n"
          ]
        },
        {
          "metadata": {
            "tags": null
          },
          "name": "stdout",
          "output_type": "stream",
          "text": [
            "Test Results: Accuracy: 73.66% | Avg Loss: 0.7351\n"
          ]
        },
        {
          "metadata": {
            "tags": null
          },
          "name": "stderr",
          "output_type": "stream",
          "text": [
            "Epoch 43: 100%|██████████| 196/196 [01:35<00:00,  2.05it/s, loss=0.9776, acc=65.36%, lr=0.00067]\n"
          ]
        },
        {
          "metadata": {
            "tags": null
          },
          "name": "stdout",
          "output_type": "stream",
          "text": [
            "Test Results: Accuracy: 73.97% | Avg Loss: 0.7351\n"
          ]
        },
        {
          "metadata": {
            "tags": null
          },
          "name": "stderr",
          "output_type": "stream",
          "text": [
            "Epoch 44: 100%|██████████| 196/196 [01:35<00:00,  2.05it/s, loss=0.9639, acc=65.67%, lr=0.00065]\n"
          ]
        },
        {
          "metadata": {
            "tags": null
          },
          "name": "stdout",
          "output_type": "stream",
          "text": [
            "Test Results: Accuracy: 75.20% | Avg Loss: 0.6964\n",
            "🎉 New best accuracy: 75.20%\n"
          ]
        },
        {
          "metadata": {
            "tags": null
          },
          "name": "stderr",
          "output_type": "stream",
          "text": [
            "Epoch 45: 100%|██████████| 196/196 [01:35<00:00,  2.06it/s, loss=0.9497, acc=66.19%, lr=0.00064]\n"
          ]
        },
        {
          "metadata": {
            "tags": null
          },
          "name": "stdout",
          "output_type": "stream",
          "text": [
            "Test Results: Accuracy: 75.87% | Avg Loss: 0.6719\n",
            "🎉 New best accuracy: 75.87%\n"
          ]
        },
        {
          "metadata": {
            "tags": null
          },
          "name": "stderr",
          "output_type": "stream",
          "text": [
            "Epoch 46: 100%|██████████| 196/196 [01:35<00:00,  2.05it/s, loss=0.9320, acc=67.16%, lr=0.00062]\n"
          ]
        },
        {
          "metadata": {
            "tags": null
          },
          "name": "stdout",
          "output_type": "stream",
          "text": [
            "Test Results: Accuracy: 75.48% | Avg Loss: 0.6832\n"
          ]
        },
        {
          "metadata": {
            "tags": null
          },
          "name": "stderr",
          "output_type": "stream",
          "text": [
            "Epoch 47: 100%|██████████| 196/196 [01:35<00:00,  2.05it/s, loss=0.9165, acc=67.51%, lr=0.00061]\n"
          ]
        },
        {
          "metadata": {
            "tags": null
          },
          "name": "stdout",
          "output_type": "stream",
          "text": [
            "Test Results: Accuracy: 76.85% | Avg Loss: 0.6430\n",
            "🎉 New best accuracy: 76.85%\n"
          ]
        },
        {
          "metadata": {
            "tags": null
          },
          "name": "stderr",
          "output_type": "stream",
          "text": [
            "Epoch 48: 100%|██████████| 196/196 [01:35<00:00,  2.05it/s, loss=0.9087, acc=67.66%, lr=0.00059]\n"
          ]
        },
        {
          "metadata": {
            "tags": null
          },
          "name": "stdout",
          "output_type": "stream",
          "text": [
            "Test Results: Accuracy: 77.96% | Avg Loss: 0.6348\n",
            "🎉 New best accuracy: 77.96%\n"
          ]
        },
        {
          "metadata": {
            "tags": null
          },
          "name": "stderr",
          "output_type": "stream",
          "text": [
            "Epoch 49: 100%|██████████| 196/196 [01:35<00:00,  2.05it/s, loss=0.8929, acc=68.34%, lr=0.00057]\n"
          ]
        },
        {
          "metadata": {
            "tags": null
          },
          "name": "stdout",
          "output_type": "stream",
          "text": [
            "Test Results: Accuracy: 77.01% | Avg Loss: 0.6432\n"
          ]
        },
        {
          "metadata": {
            "tags": null
          },
          "name": "stderr",
          "output_type": "stream",
          "text": [
            "Epoch 50: 100%|██████████| 196/196 [01:35<00:00,  2.05it/s, loss=0.8897, acc=68.36%, lr=0.00056]\n"
          ]
        },
        {
          "metadata": {
            "tags": null
          },
          "name": "stdout",
          "output_type": "stream",
          "text": [
            "Test Results: Accuracy: 77.17% | Avg Loss: 0.6437\n"
          ]
        },
        {
          "metadata": {
            "tags": null
          },
          "name": "stderr",
          "output_type": "stream",
          "text": [
            "Epoch 51: 100%|██████████| 196/196 [01:35<00:00,  2.06it/s, loss=0.8698, acc=69.13%, lr=0.00054]\n"
          ]
        },
        {
          "metadata": {
            "tags": null
          },
          "name": "stdout",
          "output_type": "stream",
          "text": [
            "Test Results: Accuracy: 78.58% | Avg Loss: 0.6140\n",
            "🎉 New best accuracy: 78.58%\n"
          ]
        },
        {
          "metadata": {
            "tags": null
          },
          "name": "stderr",
          "output_type": "stream",
          "text": [
            "Epoch 52: 100%|██████████| 196/196 [01:35<00:00,  2.05it/s, loss=0.8596, acc=69.49%, lr=0.00052]\n"
          ]
        },
        {
          "metadata": {
            "tags": null
          },
          "name": "stdout",
          "output_type": "stream",
          "text": [
            "Test Results: Accuracy: 78.86% | Avg Loss: 0.6079\n",
            "🎉 New best accuracy: 78.86%\n"
          ]
        },
        {
          "metadata": {
            "tags": null
          },
          "name": "stderr",
          "output_type": "stream",
          "text": [
            "Epoch 53: 100%|██████████| 196/196 [01:35<00:00,  2.05it/s, loss=0.8455, acc=70.01%, lr=0.00051]\n"
          ]
        },
        {
          "metadata": {
            "tags": null
          },
          "name": "stdout",
          "output_type": "stream",
          "text": [
            "Test Results: Accuracy: 78.12% | Avg Loss: 0.6040\n"
          ]
        },
        {
          "metadata": {
            "tags": null
          },
          "name": "stderr",
          "output_type": "stream",
          "text": [
            "Epoch 54: 100%|██████████| 196/196 [01:35<00:00,  2.05it/s, loss=0.8323, acc=70.70%, lr=0.00049]\n"
          ]
        },
        {
          "metadata": {
            "tags": null
          },
          "name": "stdout",
          "output_type": "stream",
          "text": [
            "Test Results: Accuracy: 79.36% | Avg Loss: 0.5817\n",
            "🎉 New best accuracy: 79.36%\n"
          ]
        },
        {
          "metadata": {
            "tags": null
          },
          "name": "stderr",
          "output_type": "stream",
          "text": [
            "Epoch 55: 100%|██████████| 196/196 [01:36<00:00,  2.04it/s, loss=0.8165, acc=70.80%, lr=0.00048]\n"
          ]
        },
        {
          "metadata": {
            "tags": null
          },
          "name": "stdout",
          "output_type": "stream",
          "text": [
            "Test Results: Accuracy: 78.73% | Avg Loss: 0.6027\n"
          ]
        },
        {
          "metadata": {
            "tags": null
          },
          "name": "stderr",
          "output_type": "stream",
          "text": [
            "Epoch 56: 100%|██████████| 196/196 [01:35<00:00,  2.05it/s, loss=0.8133, acc=71.22%, lr=0.00046]\n"
          ]
        },
        {
          "metadata": {
            "tags": null
          },
          "name": "stdout",
          "output_type": "stream",
          "text": [
            "Test Results: Accuracy: 79.35% | Avg Loss: 0.5870\n"
          ]
        },
        {
          "metadata": {
            "tags": null
          },
          "name": "stderr",
          "output_type": "stream",
          "text": [
            "Epoch 57: 100%|██████████| 196/196 [01:35<00:00,  2.05it/s, loss=0.8041, acc=71.47%, lr=0.00044]\n"
          ]
        },
        {
          "metadata": {
            "tags": null
          },
          "name": "stdout",
          "output_type": "stream",
          "text": [
            "Test Results: Accuracy: 78.52% | Avg Loss: 0.6092\n"
          ]
        },
        {
          "metadata": {
            "tags": null
          },
          "name": "stderr",
          "output_type": "stream",
          "text": [
            "Epoch 58: 100%|██████████| 196/196 [01:36<00:00,  2.04it/s, loss=0.7833, acc=72.17%, lr=0.00043]\n"
          ]
        },
        {
          "metadata": {
            "tags": null
          },
          "name": "stdout",
          "output_type": "stream",
          "text": [
            "Test Results: Accuracy: 80.52% | Avg Loss: 0.5537\n",
            "🎉 New best accuracy: 80.52%\n"
          ]
        },
        {
          "metadata": {
            "tags": null
          },
          "name": "stderr",
          "output_type": "stream",
          "text": [
            "Epoch 59: 100%|██████████| 196/196 [01:35<00:00,  2.05it/s, loss=0.7810, acc=72.56%, lr=0.00041]\n"
          ]
        },
        {
          "metadata": {
            "tags": null
          },
          "name": "stdout",
          "output_type": "stream",
          "text": [
            "Test Results: Accuracy: 80.10% | Avg Loss: 0.5633\n"
          ]
        },
        {
          "metadata": {
            "tags": null
          },
          "name": "stderr",
          "output_type": "stream",
          "text": [
            "Epoch 60: 100%|██████████| 196/196 [01:35<00:00,  2.05it/s, loss=0.7740, acc=72.50%, lr=0.00039]\n"
          ]
        },
        {
          "metadata": {
            "tags": null
          },
          "name": "stdout",
          "output_type": "stream",
          "text": [
            "Test Results: Accuracy: 80.38% | Avg Loss: 0.5497\n"
          ]
        },
        {
          "metadata": {
            "tags": null
          },
          "name": "stderr",
          "output_type": "stream",
          "text": [
            "Epoch 61: 100%|██████████| 196/196 [01:35<00:00,  2.06it/s, loss=0.7609, acc=72.93%, lr=0.00038]\n"
          ]
        },
        {
          "metadata": {
            "tags": null
          },
          "name": "stdout",
          "output_type": "stream",
          "text": [
            "Test Results: Accuracy: 81.04% | Avg Loss: 0.5363\n",
            "🎉 New best accuracy: 81.04%\n"
          ]
        },
        {
          "metadata": {
            "tags": null
          },
          "name": "stderr",
          "output_type": "stream",
          "text": [
            "Epoch 62: 100%|██████████| 196/196 [01:35<00:00,  2.05it/s, loss=0.7511, acc=73.24%, lr=0.00036]\n"
          ]
        },
        {
          "metadata": {
            "tags": null
          },
          "name": "stdout",
          "output_type": "stream",
          "text": [
            "Test Results: Accuracy: 81.04% | Avg Loss: 0.5354\n"
          ]
        },
        {
          "metadata": {
            "tags": null
          },
          "name": "stderr",
          "output_type": "stream",
          "text": [
            "Epoch 63: 100%|██████████| 196/196 [01:35<00:00,  2.05it/s, loss=0.7344, acc=73.89%, lr=0.00035]\n"
          ]
        },
        {
          "metadata": {
            "tags": null
          },
          "name": "stdout",
          "output_type": "stream",
          "text": [
            "Test Results: Accuracy: 80.15% | Avg Loss: 0.5593\n"
          ]
        },
        {
          "metadata": {
            "tags": null
          },
          "name": "stderr",
          "output_type": "stream",
          "text": [
            "Epoch 64: 100%|██████████| 196/196 [01:35<00:00,  2.05it/s, loss=0.7289, acc=74.19%, lr=0.00033]\n"
          ]
        },
        {
          "metadata": {
            "tags": null
          },
          "name": "stdout",
          "output_type": "stream",
          "text": [
            "Test Results: Accuracy: 81.27% | Avg Loss: 0.5323\n",
            "🎉 New best accuracy: 81.27%\n"
          ]
        },
        {
          "metadata": {
            "tags": null
          },
          "name": "stderr",
          "output_type": "stream",
          "text": [
            "Epoch 65: 100%|██████████| 196/196 [01:35<00:00,  2.05it/s, loss=0.7206, acc=74.45%, lr=0.00031]\n"
          ]
        },
        {
          "metadata": {
            "tags": null
          },
          "name": "stdout",
          "output_type": "stream",
          "text": [
            "Test Results: Accuracy: 81.81% | Avg Loss: 0.5206\n",
            "🎉 New best accuracy: 81.81%\n"
          ]
        },
        {
          "metadata": {
            "tags": null
          },
          "name": "stderr",
          "output_type": "stream",
          "text": [
            "Epoch 66: 100%|██████████| 196/196 [01:35<00:00,  2.05it/s, loss=0.7115, acc=75.00%, lr=0.00030]\n"
          ]
        },
        {
          "metadata": {
            "tags": null
          },
          "name": "stdout",
          "output_type": "stream",
          "text": [
            "Test Results: Accuracy: 81.85% | Avg Loss: 0.5192\n",
            "🎉 New best accuracy: 81.85%\n"
          ]
        },
        {
          "metadata": {
            "tags": null
          },
          "name": "stderr",
          "output_type": "stream",
          "text": [
            "Epoch 67: 100%|██████████| 196/196 [01:35<00:00,  2.06it/s, loss=0.6993, acc=75.01%, lr=0.00028]\n"
          ]
        },
        {
          "metadata": {
            "tags": null
          },
          "name": "stdout",
          "output_type": "stream",
          "text": [
            "Test Results: Accuracy: 82.69% | Avg Loss: 0.5070\n",
            "🎉 New best accuracy: 82.69%\n"
          ]
        },
        {
          "metadata": {
            "tags": null
          },
          "name": "stderr",
          "output_type": "stream",
          "text": [
            "Epoch 68: 100%|██████████| 196/196 [01:35<00:00,  2.05it/s, loss=0.6880, acc=75.64%, lr=0.00027]\n"
          ]
        },
        {
          "metadata": {
            "tags": null
          },
          "name": "stdout",
          "output_type": "stream",
          "text": [
            "Test Results: Accuracy: 82.18% | Avg Loss: 0.5062\n"
          ]
        },
        {
          "metadata": {
            "tags": null
          },
          "name": "stderr",
          "output_type": "stream",
          "text": [
            "Epoch 69: 100%|██████████| 196/196 [01:35<00:00,  2.05it/s, loss=0.6803, acc=75.73%, lr=0.00025]\n"
          ]
        },
        {
          "metadata": {
            "tags": null
          },
          "name": "stdout",
          "output_type": "stream",
          "text": [
            "Test Results: Accuracy: 82.46% | Avg Loss: 0.5062\n"
          ]
        },
        {
          "metadata": {
            "tags": null
          },
          "name": "stderr",
          "output_type": "stream",
          "text": [
            "Epoch 70: 100%|██████████| 196/196 [01:35<00:00,  2.05it/s, loss=0.6691, acc=76.24%, lr=0.00024]\n"
          ]
        },
        {
          "metadata": {
            "tags": null
          },
          "name": "stdout",
          "output_type": "stream",
          "text": [
            "Test Results: Accuracy: 82.35% | Avg Loss: 0.5069\n"
          ]
        },
        {
          "metadata": {
            "tags": null
          },
          "name": "stderr",
          "output_type": "stream",
          "text": [
            "Epoch 71: 100%|██████████| 196/196 [01:35<00:00,  2.05it/s, loss=0.6600, acc=76.53%, lr=0.00023]\n"
          ]
        },
        {
          "metadata": {
            "tags": null
          },
          "name": "stdout",
          "output_type": "stream",
          "text": [
            "Test Results: Accuracy: 82.81% | Avg Loss: 0.4915\n",
            "🎉 New best accuracy: 82.81%\n"
          ]
        },
        {
          "metadata": {
            "tags": null
          },
          "name": "stderr",
          "output_type": "stream",
          "text": [
            "Epoch 72: 100%|██████████| 196/196 [01:35<00:00,  2.05it/s, loss=0.6593, acc=76.74%, lr=0.00021]\n"
          ]
        },
        {
          "metadata": {
            "tags": null
          },
          "name": "stdout",
          "output_type": "stream",
          "text": [
            "Test Results: Accuracy: 83.00% | Avg Loss: 0.4903\n",
            "🎉 New best accuracy: 83.00%\n"
          ]
        },
        {
          "metadata": {
            "tags": null
          },
          "name": "stderr",
          "output_type": "stream",
          "text": [
            "Epoch 73: 100%|██████████| 196/196 [01:35<00:00,  2.05it/s, loss=0.6481, acc=76.98%, lr=0.00020]\n"
          ]
        },
        {
          "metadata": {
            "tags": null
          },
          "name": "stdout",
          "output_type": "stream",
          "text": [
            "Test Results: Accuracy: 83.13% | Avg Loss: 0.4895\n",
            "🎉 New best accuracy: 83.13%\n"
          ]
        },
        {
          "metadata": {
            "tags": null
          },
          "name": "stderr",
          "output_type": "stream",
          "text": [
            "Epoch 74: 100%|██████████| 196/196 [01:35<00:00,  2.05it/s, loss=0.6404, acc=77.38%, lr=0.00019]\n"
          ]
        },
        {
          "metadata": {
            "tags": null
          },
          "name": "stdout",
          "output_type": "stream",
          "text": [
            "Test Results: Accuracy: 82.57% | Avg Loss: 0.4990\n"
          ]
        },
        {
          "metadata": {
            "tags": null
          },
          "name": "stderr",
          "output_type": "stream",
          "text": [
            "Epoch 75: 100%|██████████| 196/196 [01:35<00:00,  2.05it/s, loss=0.6349, acc=77.49%, lr=0.00017]\n"
          ]
        },
        {
          "metadata": {
            "tags": null
          },
          "name": "stdout",
          "output_type": "stream",
          "text": [
            "Test Results: Accuracy: 83.42% | Avg Loss: 0.4787\n",
            "🎉 New best accuracy: 83.42%\n"
          ]
        },
        {
          "metadata": {
            "tags": null
          },
          "name": "stderr",
          "output_type": "stream",
          "text": [
            "Epoch 76: 100%|██████████| 196/196 [01:35<00:00,  2.05it/s, loss=0.6238, acc=78.03%, lr=0.00016]\n"
          ]
        },
        {
          "metadata": {
            "tags": null
          },
          "name": "stdout",
          "output_type": "stream",
          "text": [
            "Test Results: Accuracy: 83.49% | Avg Loss: 0.4748\n",
            "🎉 New best accuracy: 83.49%\n"
          ]
        },
        {
          "metadata": {
            "tags": null
          },
          "name": "stderr",
          "output_type": "stream",
          "text": [
            "Epoch 77: 100%|██████████| 196/196 [01:35<00:00,  2.06it/s, loss=0.6134, acc=78.22%, lr=0.00015]\n"
          ]
        },
        {
          "metadata": {
            "tags": null
          },
          "name": "stdout",
          "output_type": "stream",
          "text": [
            "Test Results: Accuracy: 83.50% | Avg Loss: 0.4742\n",
            "🎉 New best accuracy: 83.50%\n"
          ]
        },
        {
          "metadata": {
            "tags": null
          },
          "name": "stderr",
          "output_type": "stream",
          "text": [
            "Epoch 78: 100%|██████████| 196/196 [01:35<00:00,  2.05it/s, loss=0.6068, acc=78.37%, lr=0.00014]\n"
          ]
        },
        {
          "metadata": {
            "tags": null
          },
          "name": "stdout",
          "output_type": "stream",
          "text": [
            "Test Results: Accuracy: 83.61% | Avg Loss: 0.4801\n",
            "🎉 New best accuracy: 83.61%\n"
          ]
        },
        {
          "metadata": {
            "tags": null
          },
          "name": "stderr",
          "output_type": "stream",
          "text": [
            "Epoch 79: 100%|██████████| 196/196 [01:35<00:00,  2.05it/s, loss=0.5996, acc=78.75%, lr=0.00013]\n"
          ]
        },
        {
          "metadata": {
            "tags": null
          },
          "name": "stdout",
          "output_type": "stream",
          "text": [
            "Test Results: Accuracy: 83.86% | Avg Loss: 0.4621\n",
            "🎉 New best accuracy: 83.86%\n"
          ]
        },
        {
          "metadata": {
            "tags": null
          },
          "name": "stderr",
          "output_type": "stream",
          "text": [
            "Epoch 80: 100%|██████████| 196/196 [01:35<00:00,  2.05it/s, loss=0.5942, acc=78.88%, lr=0.00012]\n"
          ]
        },
        {
          "metadata": {
            "tags": null
          },
          "name": "stdout",
          "output_type": "stream",
          "text": [
            "Test Results: Accuracy: 83.79% | Avg Loss: 0.4681\n"
          ]
        },
        {
          "metadata": {
            "tags": null
          },
          "name": "stderr",
          "output_type": "stream",
          "text": [
            "Epoch 81: 100%|██████████| 196/196 [01:35<00:00,  2.05it/s, loss=0.5869, acc=79.17%, lr=0.00011]\n"
          ]
        },
        {
          "metadata": {
            "tags": null
          },
          "name": "stdout",
          "output_type": "stream",
          "text": [
            "Test Results: Accuracy: 84.37% | Avg Loss: 0.4522\n",
            "🎉 New best accuracy: 84.37%\n"
          ]
        },
        {
          "metadata": {
            "tags": null
          },
          "name": "stderr",
          "output_type": "stream",
          "text": [
            "Epoch 82: 100%|██████████| 196/196 [01:35<00:00,  2.05it/s, loss=0.5826, acc=79.35%, lr=0.00010]\n"
          ]
        },
        {
          "metadata": {
            "tags": null
          },
          "name": "stdout",
          "output_type": "stream",
          "text": [
            "Test Results: Accuracy: 84.21% | Avg Loss: 0.4548\n"
          ]
        },
        {
          "metadata": {
            "tags": null
          },
          "name": "stderr",
          "output_type": "stream",
          "text": [
            "Epoch 83: 100%|██████████| 196/196 [01:35<00:00,  2.05it/s, loss=0.5811, acc=79.48%, lr=0.00009]\n"
          ]
        },
        {
          "metadata": {
            "tags": null
          },
          "name": "stdout",
          "output_type": "stream",
          "text": [
            "Test Results: Accuracy: 84.37% | Avg Loss: 0.4544\n"
          ]
        },
        {
          "metadata": {
            "tags": null
          },
          "name": "stderr",
          "output_type": "stream",
          "text": [
            "Epoch 84: 100%|██████████| 196/196 [01:35<00:00,  2.05it/s, loss=0.5758, acc=79.59%, lr=0.00008]\n"
          ]
        },
        {
          "metadata": {
            "tags": null
          },
          "name": "stdout",
          "output_type": "stream",
          "text": [
            "Test Results: Accuracy: 84.37% | Avg Loss: 0.4490\n"
          ]
        },
        {
          "metadata": {
            "tags": null
          },
          "name": "stderr",
          "output_type": "stream",
          "text": [
            "Epoch 85: 100%|██████████| 196/196 [01:35<00:00,  2.05it/s, loss=0.5694, acc=79.70%, lr=0.00007]\n"
          ]
        },
        {
          "metadata": {
            "tags": null
          },
          "name": "stdout",
          "output_type": "stream",
          "text": [
            "Test Results: Accuracy: 84.59% | Avg Loss: 0.4509\n",
            "🎉 New best accuracy: 84.59%\n"
          ]
        },
        {
          "metadata": {
            "tags": null
          },
          "name": "stderr",
          "output_type": "stream",
          "text": [
            "Epoch 86: 100%|██████████| 196/196 [01:36<00:00,  2.04it/s, loss=0.5671, acc=80.02%, lr=0.00006]\n"
          ]
        },
        {
          "metadata": {
            "tags": null
          },
          "name": "stdout",
          "output_type": "stream",
          "text": [
            "Test Results: Accuracy: 84.68% | Avg Loss: 0.4547\n",
            "🎉 New best accuracy: 84.68%\n"
          ]
        },
        {
          "metadata": {
            "tags": null
          },
          "name": "stderr",
          "output_type": "stream",
          "text": [
            "Epoch 87: 100%|██████████| 196/196 [01:35<00:00,  2.05it/s, loss=0.5622, acc=80.15%, lr=0.00005]\n"
          ]
        },
        {
          "metadata": {
            "tags": null
          },
          "name": "stdout",
          "output_type": "stream",
          "text": [
            "Test Results: Accuracy: 84.51% | Avg Loss: 0.4509\n"
          ]
        },
        {
          "metadata": {
            "tags": null
          },
          "name": "stderr",
          "output_type": "stream",
          "text": [
            "Epoch 88: 100%|██████████| 196/196 [01:35<00:00,  2.05it/s, loss=0.5562, acc=80.17%, lr=0.00005]\n"
          ]
        },
        {
          "metadata": {
            "tags": null
          },
          "name": "stdout",
          "output_type": "stream",
          "text": [
            "Test Results: Accuracy: 84.68% | Avg Loss: 0.4484\n"
          ]
        },
        {
          "metadata": {
            "tags": null
          },
          "name": "stderr",
          "output_type": "stream",
          "text": [
            "Epoch 89: 100%|██████████| 196/196 [01:35<00:00,  2.05it/s, loss=0.5508, acc=80.40%, lr=0.00004]\n"
          ]
        },
        {
          "metadata": {
            "tags": null
          },
          "name": "stdout",
          "output_type": "stream",
          "text": [
            "Test Results: Accuracy: 84.71% | Avg Loss: 0.4470\n",
            "🎉 New best accuracy: 84.71%\n"
          ]
        },
        {
          "metadata": {
            "tags": null
          },
          "name": "stderr",
          "output_type": "stream",
          "text": [
            "Epoch 90: 100%|██████████| 196/196 [01:35<00:00,  2.05it/s, loss=0.5477, acc=80.53%, lr=0.00003]\n"
          ]
        },
        {
          "metadata": {
            "tags": null
          },
          "name": "stdout",
          "output_type": "stream",
          "text": [
            "Test Results: Accuracy: 84.66% | Avg Loss: 0.4503\n"
          ]
        },
        {
          "metadata": {
            "tags": null
          },
          "name": "stderr",
          "output_type": "stream",
          "text": [
            "Epoch 91: 100%|██████████| 196/196 [01:35<00:00,  2.05it/s, loss=0.5462, acc=80.84%, lr=0.00003]\n"
          ]
        },
        {
          "metadata": {
            "tags": null
          },
          "name": "stdout",
          "output_type": "stream",
          "text": [
            "Test Results: Accuracy: 84.90% | Avg Loss: 0.4453\n",
            "🎉 New best accuracy: 84.90%\n"
          ]
        },
        {
          "metadata": {
            "tags": null
          },
          "name": "stderr",
          "output_type": "stream",
          "text": [
            "Epoch 92: 100%|██████████| 196/196 [01:35<00:00,  2.05it/s, loss=0.5455, acc=80.74%, lr=0.00002]\n"
          ]
        },
        {
          "metadata": {
            "tags": null
          },
          "name": "stdout",
          "output_type": "stream",
          "text": [
            "Test Results: Accuracy: 84.74% | Avg Loss: 0.4436\n"
          ]
        },
        {
          "metadata": {
            "tags": null
          },
          "name": "stderr",
          "output_type": "stream",
          "text": [
            "Epoch 93: 100%|██████████| 196/196 [01:35<00:00,  2.05it/s, loss=0.5406, acc=80.79%, lr=0.00002]\n"
          ]
        },
        {
          "metadata": {
            "tags": null
          },
          "name": "stdout",
          "output_type": "stream",
          "text": [
            "Test Results: Accuracy: 84.83% | Avg Loss: 0.4461\n"
          ]
        },
        {
          "metadata": {
            "tags": null
          },
          "name": "stderr",
          "output_type": "stream",
          "text": [
            "Epoch 94: 100%|██████████| 196/196 [01:35<00:00,  2.05it/s, loss=0.5422, acc=80.80%, lr=0.00001]\n"
          ]
        },
        {
          "metadata": {
            "tags": null
          },
          "name": "stdout",
          "output_type": "stream",
          "text": [
            "Test Results: Accuracy: 84.87% | Avg Loss: 0.4449\n"
          ]
        },
        {
          "metadata": {
            "tags": null
          },
          "name": "stderr",
          "output_type": "stream",
          "text": [
            "Epoch 95: 100%|██████████| 196/196 [01:35<00:00,  2.05it/s, loss=0.5369, acc=81.01%, lr=0.00001]\n"
          ]
        },
        {
          "metadata": {
            "tags": null
          },
          "name": "stdout",
          "output_type": "stream",
          "text": [
            "Test Results: Accuracy: 84.87% | Avg Loss: 0.4469\n"
          ]
        },
        {
          "metadata": {
            "tags": null
          },
          "name": "stderr",
          "output_type": "stream",
          "text": [
            "Epoch 96: 100%|██████████| 196/196 [01:35<00:00,  2.06it/s, loss=0.5437, acc=80.70%, lr=0.00001]\n"
          ]
        },
        {
          "metadata": {
            "tags": null
          },
          "name": "stdout",
          "output_type": "stream",
          "text": [
            "Test Results: Accuracy: 84.95% | Avg Loss: 0.4441\n",
            "🎉 New best accuracy: 84.95%\n"
          ]
        },
        {
          "output_type": "stream",
          "name": "stderr",
          "text": [
            "Epoch 97: 100%|██████████| 196/196 [01:35<00:00,  2.05it/s, loss=0.5319, acc=81.09%, lr=0.00000]\n"
          ]
        },
        {
          "output_type": "stream",
          "name": "stdout",
          "text": [
            "Test Results: Accuracy: 84.87% | Avg Loss: 0.4437\n"
          ]
        },
        {
          "output_type": "stream",
          "name": "stderr",
          "text": [
            "Epoch 98: 100%|██████████| 196/196 [01:35<00:00,  2.05it/s, loss=0.5351, acc=81.00%, lr=0.00000]\n"
          ]
        },
        {
          "output_type": "stream",
          "name": "stdout",
          "text": [
            "Test Results: Accuracy: 84.95% | Avg Loss: 0.4420\n"
          ]
        },
        {
          "output_type": "stream",
          "name": "stderr",
          "text": [
            "Epoch 99: 100%|██████████| 196/196 [01:35<00:00,  2.05it/s, loss=0.5350, acc=81.05%, lr=0.00000]\n"
          ]
        },
        {
          "output_type": "stream",
          "name": "stdout",
          "text": [
            "Test Results: Accuracy: 84.88% | Avg Loss: 0.4429\n"
          ]
        },
        {
          "output_type": "stream",
          "name": "stderr",
          "text": [
            "Epoch 100: 100%|██████████| 196/196 [01:35<00:00,  2.06it/s, loss=0.5354, acc=80.98%, lr=0.00000]\n"
          ]
        },
        {
          "output_type": "stream",
          "name": "stdout",
          "text": [
            "Test Results: Accuracy: 84.90% | Avg Loss: 0.4429\n",
            "\n",
            "--- Training Finished ---\n",
            "🏆 Best Test Accuracy: 84.95%\n"
          ]
        }
      ]
    }
  ]
}